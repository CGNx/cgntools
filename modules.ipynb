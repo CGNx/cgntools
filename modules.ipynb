{
 "cells": [
  {
   "cell_type": "code",
   "execution_count": 1,
   "metadata": {
    "collapsed": false
   },
   "outputs": [],
   "source": [
    "%matplotlib inline\n",
    "\n",
    "import os\n",
    "if os.name != 'nt':\n",
    "    from bq.edx2bigquery.edx2bigquery import bqutil\n",
    "    import pycountry\n",
    "\n",
    "import pandas as pd\n",
    "import numpy as np\n",
    "import scipy\n",
    "import sklearn\n",
    "from sklearn.datasets import fetch_mldata\n",
    "from sklearn.cluster import KMeans\n",
    "from numpy import random\n",
    "\n",
    "from matplotlib import pyplot as plt\n",
    "import matplotlib.cm as cm # colors\n",
    "import matplotlib\n",
    "import matplotlib.ticker as mtick #Add percents to x-axis\n",
    "\n",
    "import datetime as dt\n",
    "from datetime import datetime\n",
    "import gzip\n",
    "import pickle\n",
    "import time\n",
    "import sys\n",
    "import json\n",
    "\n",
    "import networkx as nx\n",
    "\n",
    "from difflib import SequenceMatcher\n",
    "\n",
    "from math import radians, cos, sin, asin, sqrt\n",
    "\n",
    "from IPython.display import clear_output"
   ]
  },
  {
   "cell_type": "code",
   "execution_count": null,
   "metadata": {
    "collapsed": true
   },
   "outputs": [],
   "source": []
  }
 ],
 "metadata": {
  "kernelspec": {
   "display_name": "Python 2",
   "language": "python",
   "name": "python2"
  },
  "language_info": {
   "codemirror_mode": {
    "name": "ipython",
    "version": 2
   },
   "file_extension": ".py",
   "mimetype": "text/x-python",
   "name": "python",
   "nbconvert_exporter": "python",
   "pygments_lexer": "ipython2",
   "version": "2.7.10"
  }
 },
 "nbformat": 4,
 "nbformat_minor": 0
}
